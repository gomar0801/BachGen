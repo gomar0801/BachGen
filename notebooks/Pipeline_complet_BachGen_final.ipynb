[![Open In Colab](https://colab.research.google.com/assets/colab-badge.svg)](
https://colab.research.google.com/github/TON_UTILISATEUR/BachGen/blob/main/notebooks/Pipeline_complet_BachGen_final.ipynb
)
