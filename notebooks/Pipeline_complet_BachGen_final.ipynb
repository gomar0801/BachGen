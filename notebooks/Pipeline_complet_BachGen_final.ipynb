{
  "cells": [
    {
      "cell_type": "markdown",
      "id": "0d34bf0e-2afa-4311-8a0d-20778515a64b",
      "metadata": {
        "id": "0d34bf0e-2afa-4311-8a0d-20778515a64b"
      },
      "source": [
        "[![Open In Colab](https://colab.research.google.com/assets/colab-badge.svg)](https://colab.research.google.com/github/gomar0801/BachGen/blob/main/notebooks/Pipeline%20complet%20BachGen%20final.ipynb)"
      ]
    }
}
