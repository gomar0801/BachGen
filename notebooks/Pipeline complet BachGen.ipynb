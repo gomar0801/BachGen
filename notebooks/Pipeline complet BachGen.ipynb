{
  "cells": [
    {
      "cell_type": "markdown",
      "id": "0d34bf0e-2afa-4311-8a0d-20778515a64b",
      "metadata": {
        "id": "0d34bf0e-2afa-4311-8a0d-20778515a64b"
      },
      "source": [
        "[![Open In Colab](https://colab.research.google.com/assets/colab-badge.svg)](https://colab.research.google.com/github/gomar0801/BachGen/blob/main/notebooks/Test%20sur%20le%20github%20BachGen.ipynb)"
      ]
    },
    {
      "cell_type": "code",
      "execution_count": 1,
      "id": "7dffe1df-99d5-4887-80ee-3ba7f9f16c45",
      "metadata": {
        "id": "7dffe1df-99d5-4887-80ee-3ba7f9f16c45"
      },
      "outputs": [],
      "source": [
        "%%capture\n",
        "# Clone the BachGen repository\n",
        "!rm -rf BachGen && git clone https://github.com/gomar0801/BachGen.git\n",
        "!chmod +x ./BachGen/scripts/setup.sh\n",
        "!./BachGen/scripts/setup.sh"
      ]
    },
    {
      "cell_type": "code",
      "source": [
        "!rm -rf BachGen && git clone https://github.com/gomar0801/BachGen.git"
      ],
      "metadata": {
        "colab": {
          "base_uri": "https://localhost:8080/"
        },
        "id": "n5R2myX4UpxX",
        "outputId": "9d661eae-98bb-4af2-8e95-1799740610d8"
      },
      "id": "n5R2myX4UpxX",
      "execution_count": null,
      "outputs": [
        {
          "output_type": "stream",
          "name": "stdout",
          "text": [
            "Cloning into 'BachGen'...\n",
            "remote: Enumerating objects: 414, done.\u001b[K\n",
            "remote: Counting objects:   0% (1/224)\u001b[K\rremote: Counting objects:   1% (3/224)\u001b[K\rremote: Counting objects:   2% (5/224)\u001b[K\rremote: Counting objects:   3% (7/224)\u001b[K\rremote: Counting objects:   4% (9/224)\u001b[K\rremote: Counting objects:   5% (12/224)\u001b[K\rremote: Counting objects:   6% (14/224)\u001b[K\rremote: Counting objects:   7% (16/224)\u001b[K\rremote: Counting objects:   8% (18/224)\u001b[K\rremote: Counting objects:   9% (21/224)\u001b[K\rremote: Counting objects:  10% (23/224)\u001b[K\rremote: Counting objects:  11% (25/224)\u001b[K\rremote: Counting objects:  12% (27/224)\u001b[K\rremote: Counting objects:  13% (30/224)\u001b[K\rremote: Counting objects:  14% (32/224)\u001b[K\rremote: Counting objects:  15% (34/224)\u001b[K\rremote: Counting objects:  16% (36/224)\u001b[K\rremote: Counting objects:  17% (39/224)\u001b[K\rremote: Counting objects:  18% (41/224)\u001b[K\rremote: Counting objects:  19% (43/224)\u001b[K\rremote: Counting objects:  20% (45/224)\u001b[K\rremote: Counting objects:  21% (48/224)\u001b[K\rremote: Counting objects:  22% (50/224)\u001b[K\rremote: Counting objects:  23% (52/224)\u001b[K\rremote: Counting objects:  24% (54/224)\u001b[K\rremote: Counting objects:  25% (56/224)\u001b[K\rremote: Counting objects:  26% (59/224)\u001b[K\rremote: Counting objects:  27% (61/224)\u001b[K\rremote: Counting objects:  28% (63/224)\u001b[K\rremote: Counting objects:  29% (65/224)\u001b[K\rremote: Counting objects:  30% (68/224)\u001b[K\rremote: Counting objects:  31% (70/224)\u001b[K\rremote: Counting objects:  32% (72/224)\u001b[K\rremote: Counting objects:  33% (74/224)\u001b[K\rremote: Counting objects:  34% (77/224)\u001b[K\rremote: Counting objects:  35% (79/224)\u001b[K\rremote: Counting objects:  36% (81/224)\u001b[K\rremote: Counting objects:  37% (83/224)\u001b[K\rremote: Counting objects:  38% (86/224)\u001b[K\rremote: Counting objects:  39% (88/224)\u001b[K\rremote: Counting objects:  40% (90/224)\u001b[K\rremote: Counting objects:  41% (92/224)\u001b[K\rremote: Counting objects:  42% (95/224)\u001b[K\rremote: Counting objects:  43% (97/224)\u001b[K\rremote: Counting objects:  44% (99/224)\u001b[K\rremote: Counting objects:  45% (101/224)\u001b[K\rremote: Counting objects:  46% (104/224)\u001b[K\rremote: Counting objects:  47% (106/224)\u001b[K\rremote: Counting objects:  48% (108/224)\u001b[K\rremote: Counting objects:  49% (110/224)\u001b[K\rremote: Counting objects:  50% (112/224)\u001b[K\rremote: Counting objects:  51% (115/224)\u001b[K\rremote: Counting objects:  52% (117/224)\u001b[K\rremote: Counting objects:  53% (119/224)\u001b[K\rremote: Counting objects:  54% (121/224)\u001b[K\rremote: Counting objects:  55% (124/224)\u001b[K\rremote: Counting objects:  56% (126/224)\u001b[K\rremote: Counting objects:  57% (128/224)\u001b[K\rremote: Counting objects:  58% (130/224)\u001b[K\rremote: Counting objects:  59% (133/224)\u001b[K\rremote: Counting objects:  60% (135/224)\u001b[K\rremote: Counting objects:  61% (137/224)\u001b[K\rremote: Counting objects:  62% (139/224)\u001b[K\rremote: Counting objects:  63% (142/224)\u001b[K\rremote: Counting objects:  64% (144/224)\u001b[K\rremote: Counting objects:  65% (146/224)\u001b[K\rremote: Counting objects:  66% (148/224)\u001b[K\rremote: Counting objects:  67% (151/224)\u001b[K\rremote: Counting objects:  68% (153/224)\u001b[K\rremote: Counting objects:  69% (155/224)\u001b[K\rremote: Counting objects:  70% (157/224)\u001b[K\rremote: Counting objects:  71% (160/224)\u001b[K\rremote: Counting objects:  72% (162/224)\u001b[K\rremote: Counting objects:  73% (164/224)\u001b[K\rremote: Counting objects:  74% (166/224)\u001b[K\rremote: Counting objects:  75% (168/224)\u001b[K\rremote: Counting objects:  76% (171/224)\u001b[K\rremote: Counting objects:  77% (173/224)\u001b[K\rremote: Counting objects:  78% (175/224)\u001b[K\rremote: Counting objects:  79% (177/224)\u001b[K\rremote: Counting objects:  80% (180/224)\u001b[K\rremote: Counting objects:  81% (182/224)\u001b[K\rremote: Counting objects:  82% (184/224)\u001b[K\rremote: Counting objects:  83% (186/224)\u001b[K\rremote: Counting objects:  84% (189/224)\u001b[K\rremote: Counting objects:  85% (191/224)\u001b[K\rremote: Counting objects:  86% (193/224)\u001b[K\rremote: Counting objects:  87% (195/224)\u001b[K\rremote: Counting objects:  88% (198/224)\u001b[K\rremote: Counting objects:  89% (200/224)\u001b[K\rremote: Counting objects:  90% (202/224)\u001b[K\rremote: Counting objects:  91% (204/224)\u001b[K\rremote: Counting objects:  92% (207/224)\u001b[K\rremote: Counting objects:  93% (209/224)\u001b[K\rremote: Counting objects:  94% (211/224)\u001b[K\rremote: Counting objects:  95% (213/224)\u001b[K\rremote: Counting objects:  96% (216/224)\u001b[K\rremote: Counting objects:  97% (218/224)\u001b[K\rremote: Counting objects:  98% (220/224)\u001b[K\rremote: Counting objects:  99% (222/224)\u001b[K\rremote: Counting objects: 100% (224/224)\u001b[K\rremote: Counting objects: 100% (224/224), done.\u001b[K\n",
            "remote: Compressing objects: 100% (193/193), done.\u001b[K\n",
            "remote: Total 414 (delta 135), reused 65 (delta 29), pack-reused 190 (from 1)\u001b[K\n",
            "Receiving objects: 100% (414/414), 1.02 MiB | 11.01 MiB/s, done.\n",
            "Resolving deltas: 100% (215/215), done.\n"
          ]
        }
      ]
    },
    {
      "cell_type": "code",
      "execution_count": 7,
      "id": "dc675833-86ad-4379-ba27-1f0fa9e6e451",
      "metadata": {
        "id": "dc675833-86ad-4379-ba27-1f0fa9e6e451"
      },
      "outputs": [],
      "source": [
        "from bachgen.download_data import download_all\n",
        "from bachgen.extract import extract_archive\n",
        "from bachgen.display_and_play_partition import display_and_play\n",
        "from bachgen.score_to_tokens_solution_all2 import MusicXML_to_tokens\n",
        "from bachgen.tokens_to_musicxml import convert_tokens_to_musicxml"
      ]
    },
    {
      "cell_type": "markdown",
      "source": [
        "# Telechargement des données"
      ],
      "metadata": {
        "id": "rlFOIvY8aH1H"
      },
      "id": "rlFOIvY8aH1H"
    },
    {
      "cell_type": "code",
      "source": [
        "download_all() #met 12min"
      ],
      "metadata": {
        "id": "tvDgWrnYaDVv",
        "outputId": "344e70da-d1d5-47d3-fe9c-38318568b551",
        "colab": {
          "base_uri": "https://localhost:8080/"
        }
      },
      "id": "tvDgWrnYaDVv",
      "execution_count": 4,
      "outputs": [
        {
          "output_type": "stream",
          "name": "stdout",
          "text": [
            "⬇️  Téléchargement depuis https://zenodo.org/records/15571083/files/mxl.tar.gz?download=1 ...\n",
            "✅ Fichier téléchargé : data/mxl.tar.gz\n",
            "⬇️  Téléchargement depuis https://zenodo.org/records/15571083/files/PDMX.csv?download=1 ...\n",
            "✅ Fichier téléchargé : data/PDMX.csv\n"
          ]
        }
      ]
    },
    {
      "cell_type": "code",
      "source": [
        "extract_folder=extract_archive(\"/content/data/mxl.tar.gz\")"
      ],
      "metadata": {
        "id": "5bKgTnxOaDOP",
        "outputId": "fc9a79c0-7b0f-4262-9027-1073f3e2e4e2",
        "colab": {
          "base_uri": "https://localhost:8080/"
        }
      },
      "id": "5bKgTnxOaDOP",
      "execution_count": 12,
      "outputs": [
        {
          "output_type": "stream",
          "name": "stdout",
          "text": [
            "📦 Extraction de /content/data/mxl.tar.gz vers data/mxl ...\n",
            "✅ Extraction terminée dans : data/mxl\n"
          ]
        }
      ]
    },
    {
      "cell_type": "markdown",
      "source": [
        "# Filtrage"
      ],
      "metadata": {
        "id": "BTOD2V9TfUb1"
      },
      "id": "BTOD2V9TfUb1"
    },
    {
      "cell_type": "code",
      "source": [],
      "metadata": {
        "id": "nkE7duhafdYv"
      },
      "id": "nkE7duhafdYv",
      "execution_count": null,
      "outputs": []
    }
  ],
  "metadata": {
    "kernelspec": {
      "display_name": "Python 3 (ipykernel)",
      "language": "python",
      "name": "python3"
    },
    "language_info": {
      "codemirror_mode": {
        "name": "ipython",
        "version": 3
      },
      "file_extension": ".py",
      "mimetype": "text/x-python",
      "name": "python",
      "nbconvert_exporter": "python",
      "pygments_lexer": "ipython3",
      "version": "3.13.3"
    },
    "colab": {
      "provenance": []
    }
  },
  "nbformat": 4,
  "nbformat_minor": 5
}
