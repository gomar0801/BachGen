{
 "cells": [
  {
   "cell_type": "code",
   "execution_count": 10,
   "id": "7dffe1df-99d5-4887-80ee-3ba7f9f16c45",
   "metadata": {},
   "outputs": [
    {
     "name": "stdout",
     "output_type": "stream",
     "text": [
      "fatal: destination path 'BachGen' already exists and is not an empty directory.\n",
      "Requirement already satisfied: music21>=6.1 in /Users/raphaelcousin/Library/Caches/pypoetry/virtualenvs/bachgen-UH23d-R1-py3.13/lib/python3.13/site-packages (from -r BachGen/requirements.txt (line 1)) (9.7.1)\n",
      "Requirement already satisfied: pretty_midi>=0.2 in /Users/raphaelcousin/Library/Caches/pypoetry/virtualenvs/bachgen-UH23d-R1-py3.13/lib/python3.13/site-packages (from -r BachGen/requirements.txt (line 2)) (0.2.10)\n",
      "Requirement already satisfied: mido>=1.2 in /Users/raphaelcousin/Library/Caches/pypoetry/virtualenvs/bachgen-UH23d-R1-py3.13/lib/python3.13/site-packages (from -r BachGen/requirements.txt (line 3)) (1.3.3)\n",
      "Requirement already satisfied: beautifulsoup4>=4.12 in /Users/raphaelcousin/Library/Caches/pypoetry/virtualenvs/bachgen-UH23d-R1-py3.13/lib/python3.13/site-packages (from -r BachGen/requirements.txt (line 4)) (4.13.4)\n",
      "Requirement already satisfied: lxml>=4.9 in /Users/raphaelcousin/Library/Caches/pypoetry/virtualenvs/bachgen-UH23d-R1-py3.13/lib/python3.13/site-packages (from -r BachGen/requirements.txt (line 5)) (6.0.0)\n",
      "Requirement already satisfied: chardet in /Users/raphaelcousin/Library/Caches/pypoetry/virtualenvs/bachgen-UH23d-R1-py3.13/lib/python3.13/site-packages (from music21>=6.1->-r BachGen/requirements.txt (line 1)) (5.2.0)\n",
      "Requirement already satisfied: joblib in /Users/raphaelcousin/Library/Caches/pypoetry/virtualenvs/bachgen-UH23d-R1-py3.13/lib/python3.13/site-packages (from music21>=6.1->-r BachGen/requirements.txt (line 1)) (1.5.1)\n",
      "Requirement already satisfied: jsonpickle in /Users/raphaelcousin/Library/Caches/pypoetry/virtualenvs/bachgen-UH23d-R1-py3.13/lib/python3.13/site-packages (from music21>=6.1->-r BachGen/requirements.txt (line 1)) (4.1.1)\n",
      "Requirement already satisfied: matplotlib in /Users/raphaelcousin/Library/Caches/pypoetry/virtualenvs/bachgen-UH23d-R1-py3.13/lib/python3.13/site-packages (from music21>=6.1->-r BachGen/requirements.txt (line 1)) (3.10.3)\n",
      "Requirement already satisfied: more-itertools in /Users/raphaelcousin/Library/Caches/pypoetry/virtualenvs/bachgen-UH23d-R1-py3.13/lib/python3.13/site-packages (from music21>=6.1->-r BachGen/requirements.txt (line 1)) (10.7.0)\n",
      "Requirement already satisfied: numpy>=1.26.4 in /Users/raphaelcousin/Library/Caches/pypoetry/virtualenvs/bachgen-UH23d-R1-py3.13/lib/python3.13/site-packages (from music21>=6.1->-r BachGen/requirements.txt (line 1)) (2.3.2)\n",
      "Requirement already satisfied: requests in /Users/raphaelcousin/Library/Caches/pypoetry/virtualenvs/bachgen-UH23d-R1-py3.13/lib/python3.13/site-packages (from music21>=6.1->-r BachGen/requirements.txt (line 1)) (2.32.4)\n",
      "Requirement already satisfied: webcolors>=1.5 in /Users/raphaelcousin/Library/Caches/pypoetry/virtualenvs/bachgen-UH23d-R1-py3.13/lib/python3.13/site-packages (from music21>=6.1->-r BachGen/requirements.txt (line 1)) (24.11.1)\n",
      "Requirement already satisfied: six in /Users/raphaelcousin/Library/Caches/pypoetry/virtualenvs/bachgen-UH23d-R1-py3.13/lib/python3.13/site-packages (from pretty_midi>=0.2->-r BachGen/requirements.txt (line 2)) (1.17.0)\n",
      "Requirement already satisfied: packaging in /Users/raphaelcousin/Library/Caches/pypoetry/virtualenvs/bachgen-UH23d-R1-py3.13/lib/python3.13/site-packages (from mido>=1.2->-r BachGen/requirements.txt (line 3)) (25.0)\n",
      "Requirement already satisfied: soupsieve>1.2 in /Users/raphaelcousin/Library/Caches/pypoetry/virtualenvs/bachgen-UH23d-R1-py3.13/lib/python3.13/site-packages (from beautifulsoup4>=4.12->-r BachGen/requirements.txt (line 4)) (2.7)\n",
      "Requirement already satisfied: typing-extensions>=4.0.0 in /Users/raphaelcousin/Library/Caches/pypoetry/virtualenvs/bachgen-UH23d-R1-py3.13/lib/python3.13/site-packages (from beautifulsoup4>=4.12->-r BachGen/requirements.txt (line 4)) (4.14.1)\n",
      "Requirement already satisfied: contourpy>=1.0.1 in /Users/raphaelcousin/Library/Caches/pypoetry/virtualenvs/bachgen-UH23d-R1-py3.13/lib/python3.13/site-packages (from matplotlib->music21>=6.1->-r BachGen/requirements.txt (line 1)) (1.3.3)\n",
      "Requirement already satisfied: cycler>=0.10 in /Users/raphaelcousin/Library/Caches/pypoetry/virtualenvs/bachgen-UH23d-R1-py3.13/lib/python3.13/site-packages (from matplotlib->music21>=6.1->-r BachGen/requirements.txt (line 1)) (0.12.1)\n",
      "Requirement already satisfied: fonttools>=4.22.0 in /Users/raphaelcousin/Library/Caches/pypoetry/virtualenvs/bachgen-UH23d-R1-py3.13/lib/python3.13/site-packages (from matplotlib->music21>=6.1->-r BachGen/requirements.txt (line 1)) (4.59.0)\n",
      "Requirement already satisfied: kiwisolver>=1.3.1 in /Users/raphaelcousin/Library/Caches/pypoetry/virtualenvs/bachgen-UH23d-R1-py3.13/lib/python3.13/site-packages (from matplotlib->music21>=6.1->-r BachGen/requirements.txt (line 1)) (1.4.8)\n",
      "Requirement already satisfied: pillow>=8 in /Users/raphaelcousin/Library/Caches/pypoetry/virtualenvs/bachgen-UH23d-R1-py3.13/lib/python3.13/site-packages (from matplotlib->music21>=6.1->-r BachGen/requirements.txt (line 1)) (11.3.0)\n",
      "Requirement already satisfied: pyparsing>=2.3.1 in /Users/raphaelcousin/Library/Caches/pypoetry/virtualenvs/bachgen-UH23d-R1-py3.13/lib/python3.13/site-packages (from matplotlib->music21>=6.1->-r BachGen/requirements.txt (line 1)) (3.2.3)\n",
      "Requirement already satisfied: python-dateutil>=2.7 in /Users/raphaelcousin/Library/Caches/pypoetry/virtualenvs/bachgen-UH23d-R1-py3.13/lib/python3.13/site-packages (from matplotlib->music21>=6.1->-r BachGen/requirements.txt (line 1)) (2.9.0.post0)\n",
      "Requirement already satisfied: charset_normalizer<4,>=2 in /Users/raphaelcousin/Library/Caches/pypoetry/virtualenvs/bachgen-UH23d-R1-py3.13/lib/python3.13/site-packages (from requests->music21>=6.1->-r BachGen/requirements.txt (line 1)) (3.4.2)\n",
      "Requirement already satisfied: idna<4,>=2.5 in /Users/raphaelcousin/Library/Caches/pypoetry/virtualenvs/bachgen-UH23d-R1-py3.13/lib/python3.13/site-packages (from requests->music21>=6.1->-r BachGen/requirements.txt (line 1)) (3.10)\n",
      "Requirement already satisfied: urllib3<3,>=1.21.1 in /Users/raphaelcousin/Library/Caches/pypoetry/virtualenvs/bachgen-UH23d-R1-py3.13/lib/python3.13/site-packages (from requests->music21>=6.1->-r BachGen/requirements.txt (line 1)) (2.5.0)\n",
      "Requirement already satisfied: certifi>=2017.4.17 in /Users/raphaelcousin/Library/Caches/pypoetry/virtualenvs/bachgen-UH23d-R1-py3.13/lib/python3.13/site-packages (from requests->music21>=6.1->-r BachGen/requirements.txt (line 1)) (2025.7.14)\n",
      "\n",
      "\u001b[1m[\u001b[0m\u001b[34;49mnotice\u001b[0m\u001b[1;39;49m]\u001b[0m\u001b[39;49m A new release of pip is available: \u001b[0m\u001b[31;49m25.0.1\u001b[0m\u001b[39;49m -> \u001b[0m\u001b[32;49m25.1.1\u001b[0m\n",
      "\u001b[1m[\u001b[0m\u001b[34;49mnotice\u001b[0m\u001b[1;39;49m]\u001b[0m\u001b[39;49m To update, run: \u001b[0m\u001b[32;49mpip install --upgrade pip\u001b[0m\n",
      "Processing ./BachGen\n",
      "  Installing build dependencies ... \u001b[?25ldone\n",
      "\u001b[?25h  Getting requirements to build wheel ... \u001b[?25ldone\n",
      "\u001b[?25h  Preparing metadata (pyproject.toml) ... \u001b[?25ldone\n",
      "\u001b[?25hBuilding wheels for collected packages: bachgen\n",
      "  Building wheel for bachgen (pyproject.toml) ... \u001b[?25ldone\n",
      "\u001b[?25h  Created wheel for bachgen: filename=bachgen-0.1.0-py3-none-any.whl size=11249 sha256=b91696aba4e076f3235ac626788ce0171ecb827def27fd85e57d2e88df31db12\n",
      "  Stored in directory: /private/var/folders/n1/bdjyqqwn5t5cglz8mdg_13900000gn/T/pip-ephem-wheel-cache-do7k3ha3/wheels/64/3a/c7/28ae8ad8901358706742190d440cd5c543b38d6094faabcc5c\n",
      "Successfully built bachgen\n",
      "Installing collected packages: bachgen\n",
      "  Attempting uninstall: bachgen\n",
      "    Found existing installation: bachgen 0.1.0\n",
      "    Uninstalling bachgen-0.1.0:\n",
      "      Successfully uninstalled bachgen-0.1.0\n",
      "Successfully installed bachgen-0.1.0\n",
      "\n",
      "\u001b[1m[\u001b[0m\u001b[34;49mnotice\u001b[0m\u001b[1;39;49m]\u001b[0m\u001b[39;49m A new release of pip is available: \u001b[0m\u001b[31;49m25.0.1\u001b[0m\u001b[39;49m -> \u001b[0m\u001b[32;49m25.1.1\u001b[0m\n",
      "\u001b[1m[\u001b[0m\u001b[34;49mnotice\u001b[0m\u001b[1;39;49m]\u001b[0m\u001b[39;49m To update, run: \u001b[0m\u001b[32;49mpip install --upgrade pip\u001b[0m\n"
     ]
    }
   ],
   "source": [
    "!git clone https://github.com/gomar0801/BachGen.git\n",
    "!pip install -r BachGen/requirements.txt\n",
    "!pip install ./BachGen\n",
    "!python ../scripts/setup.py"
   ]
  },
  {
   "cell_type": "code",
   "execution_count": 11,
   "id": "3b624367-6ef0-4e44-8abe-ecf8217028c9",
   "metadata": {},
   "outputs": [],
   "source": [
    "#TODO add link to https://colab.research.google.com/github/"
   ]
  },
  {
   "cell_type": "code",
   "execution_count": 12,
   "id": "dc675833-86ad-4379-ba27-1f0fa9e6e451",
   "metadata": {},
   "outputs": [],
   "source": [
    "from bachgen.display_and_play_partition import display_and_play "
   ]
  },
  {
   "cell_type": "code",
   "execution_count": 13,
   "id": "0f9a0ddd-f689-4cc6-be7f-ab2f3374bf13",
   "metadata": {},
   "outputs": [
    {
     "ename": "SubConverterException",
     "evalue": "Cannot find a path to the 'mscore' file at /Applications/MuseScore 3.app/Contents/MacOS/mscore -- download MuseScore",
     "output_type": "error",
     "traceback": [
      "\u001b[31m---------------------------------------------------------------------------\u001b[39m",
      "\u001b[31mSubConverterException\u001b[39m                     Traceback (most recent call last)",
      "\u001b[36mCell\u001b[39m\u001b[36m \u001b[39m\u001b[32mIn[13]\u001b[39m\u001b[32m, line 1\u001b[39m\n\u001b[32m----> \u001b[39m\u001b[32m1\u001b[39m \u001b[43mdisplay_and_play\u001b[49m\u001b[43m(\u001b[49m\u001b[33;43m'\u001b[39;49m\u001b[33;43m../musicxml_sample/minimal.musicxml\u001b[39;49m\u001b[33;43m'\u001b[39;49m\u001b[43m)\u001b[49m\n",
      "\u001b[36mFile \u001b[39m\u001b[32m~/Library/Caches/pypoetry/virtualenvs/bachgen-UH23d-R1-py3.13/lib/python3.13/site-packages/bachgen/display_and_play_partition.py:15\u001b[39m, in \u001b[36mdisplay_and_play\u001b[39m\u001b[34m(xml_path, show_score, midi)\u001b[39m\n\u001b[32m     12\u001b[39m score = converter.parse(xml_path)\n\u001b[32m     14\u001b[39m \u001b[38;5;28;01mif\u001b[39;00m show_score:\n\u001b[32m---> \u001b[39m\u001b[32m15\u001b[39m     \u001b[43mscore\u001b[49m\u001b[43m.\u001b[49m\u001b[43mshow\u001b[49m\u001b[43m(\u001b[49m\u001b[43m)\u001b[49m  \u001b[38;5;66;03m# Affiche la partition (peut ouvrir MuseScore ou une fenêtre PDF)\u001b[39;00m\n\u001b[32m     17\u001b[39m \u001b[38;5;28;01mif\u001b[39;00m midi:\n\u001b[32m     18\u001b[39m     score.show(\u001b[33m'\u001b[39m\u001b[33mmidi\u001b[39m\u001b[33m'\u001b[39m)\n",
      "\u001b[36mFile \u001b[39m\u001b[32m~/Library/Caches/pypoetry/virtualenvs/bachgen-UH23d-R1-py3.13/lib/python3.13/site-packages/music21/stream/base.py:412\u001b[39m, in \u001b[36mStream.show\u001b[39m\u001b[34m(self, fmt, app, **keywords)\u001b[39m\n\u001b[32m    410\u001b[39m \u001b[38;5;28;01mif\u001b[39;00m \u001b[38;5;28mself\u001b[39m.isSorted \u001b[38;5;129;01mis\u001b[39;00m \u001b[38;5;28;01mFalse\u001b[39;00m \u001b[38;5;129;01mand\u001b[39;00m \u001b[38;5;28mself\u001b[39m.autoSort:\n\u001b[32m    411\u001b[39m     \u001b[38;5;28mself\u001b[39m.sort()\n\u001b[32m--> \u001b[39m\u001b[32m412\u001b[39m \u001b[38;5;28;01mreturn\u001b[39;00m \u001b[38;5;28;43msuper\u001b[39;49m\u001b[43m(\u001b[49m\u001b[43m)\u001b[49m\u001b[43m.\u001b[49m\u001b[43mshow\u001b[49m\u001b[43m(\u001b[49m\u001b[43mfmt\u001b[49m\u001b[43m=\u001b[49m\u001b[43mfmt\u001b[49m\u001b[43m,\u001b[49m\u001b[43m \u001b[49m\u001b[43mapp\u001b[49m\u001b[43m=\u001b[49m\u001b[43mapp\u001b[49m\u001b[43m,\u001b[49m\u001b[43m \u001b[49m\u001b[43m*\u001b[49m\u001b[43m*\u001b[49m\u001b[43mkeywords\u001b[49m\u001b[43m)\u001b[49m\n",
      "\u001b[36mFile \u001b[39m\u001b[32m~/Library/Caches/pypoetry/virtualenvs/bachgen-UH23d-R1-py3.13/lib/python3.13/site-packages/music21/base.py:2996\u001b[39m, in \u001b[36mMusic21Object.show\u001b[39m\u001b[34m(self, fmt, app, **keywords)\u001b[39m\n\u001b[32m   2994\u001b[39m scClass = common.findSubConverterForFormat(regularizedConverterFormat)\n\u001b[32m   2995\u001b[39m formatWriter = scClass()\n\u001b[32m-> \u001b[39m\u001b[32m2996\u001b[39m \u001b[38;5;28;01mreturn\u001b[39;00m \u001b[43mformatWriter\u001b[49m\u001b[43m.\u001b[49m\u001b[43mshow\u001b[49m\u001b[43m(\u001b[49m\u001b[38;5;28;43mself\u001b[39;49m\u001b[43m,\u001b[49m\n\u001b[32m   2997\u001b[39m \u001b[43m                         \u001b[49m\u001b[43mregularizedConverterFormat\u001b[49m\u001b[43m,\u001b[49m\n\u001b[32m   2998\u001b[39m \u001b[43m                         \u001b[49m\u001b[43mapp\u001b[49m\u001b[43m=\u001b[49m\u001b[43mapp\u001b[49m\u001b[43m,\u001b[49m\n\u001b[32m   2999\u001b[39m \u001b[43m                         \u001b[49m\u001b[43msubformats\u001b[49m\u001b[43m=\u001b[49m\u001b[43msubformats\u001b[49m\u001b[43m,\u001b[49m\n\u001b[32m   3000\u001b[39m \u001b[43m                         \u001b[49m\u001b[43m*\u001b[49m\u001b[43m*\u001b[49m\u001b[43mkeywords\u001b[49m\u001b[43m)\u001b[49m\n",
      "\u001b[36mFile \u001b[39m\u001b[32m~/Library/Caches/pypoetry/virtualenvs/bachgen-UH23d-R1-py3.13/lib/python3.13/site-packages/music21/converter/subConverters.py:384\u001b[39m, in \u001b[36mConverterIPython.show\u001b[39m\u001b[34m(self, obj, fmt, app, subformats, **keywords)\u001b[39m\n\u001b[32m    381\u001b[39m helperSubConverter = Converter.getSubConverterFromFormat(helperFormat)\n\u001b[32m    383\u001b[39m \u001b[38;5;28;01mif\u001b[39;00m helperFormat \u001b[38;5;129;01min\u001b[39;00m (\u001b[33m'\u001b[39m\u001b[33mmusicxml\u001b[39m\u001b[33m'\u001b[39m, \u001b[33m'\u001b[39m\u001b[33mxml\u001b[39m\u001b[33m'\u001b[39m, \u001b[33m'\u001b[39m\u001b[33mlilypond\u001b[39m\u001b[33m'\u001b[39m, \u001b[33m'\u001b[39m\u001b[33mlily\u001b[39m\u001b[33m'\u001b[39m):\n\u001b[32m--> \u001b[39m\u001b[32m384\u001b[39m     \u001b[43mip21_converters\u001b[49m\u001b[43m.\u001b[49m\u001b[43mshowImageThroughMuseScore\u001b[49m\u001b[43m(\u001b[49m\n\u001b[32m    385\u001b[39m \u001b[43m        \u001b[49m\u001b[43mobj\u001b[49m\u001b[43m,\u001b[49m\n\u001b[32m    386\u001b[39m \u001b[43m        \u001b[49m\u001b[43msubConverter\u001b[49m\u001b[43m=\u001b[49m\u001b[43mhelperSubConverter\u001b[49m\u001b[43m,\u001b[49m\n\u001b[32m    387\u001b[39m \u001b[43m        \u001b[49m\u001b[43mfmt\u001b[49m\u001b[43m=\u001b[49m\u001b[43mhelperFormat\u001b[49m\u001b[43m,\u001b[49m\n\u001b[32m    388\u001b[39m \u001b[43m        \u001b[49m\u001b[43msubformats\u001b[49m\u001b[43m=\u001b[49m\u001b[43mhelperSubformats\u001b[49m\u001b[43m,\u001b[49m\n\u001b[32m    389\u001b[39m \u001b[43m        \u001b[49m\u001b[43m*\u001b[49m\u001b[43m*\u001b[49m\u001b[43mkeywords\u001b[49m\u001b[43m,\u001b[49m\n\u001b[32m    390\u001b[39m \u001b[43m    \u001b[49m\u001b[43m)\u001b[49m\n\u001b[32m    391\u001b[39m \u001b[38;5;28;01melif\u001b[39;00m helperFormat == \u001b[33m'\u001b[39m\u001b[33mmidi\u001b[39m\u001b[33m'\u001b[39m:\n\u001b[32m    392\u001b[39m     \u001b[38;5;28;01mif\u001b[39;00m t.TYPE_CHECKING:\n",
      "\u001b[36mFile \u001b[39m\u001b[32m~/Library/Caches/pypoetry/virtualenvs/bachgen-UH23d-R1-py3.13/lib/python3.13/site-packages/music21/ipython21/converters.py:80\u001b[39m, in \u001b[36mshowImageThroughMuseScore\u001b[39m\u001b[34m(obj, subConverter, fmt, subformats, multipageWidget, **keywords)\u001b[39m\n\u001b[32m     70\u001b[39m         showImageThroughMuseScore(\n\u001b[32m     71\u001b[39m             s,\n\u001b[32m     72\u001b[39m             subConverter=subConverter,\n\u001b[32m   (...)\u001b[39m\u001b[32m     76\u001b[39m             **keywords,\n\u001b[32m     77\u001b[39m         )\n\u001b[32m     78\u001b[39m     \u001b[38;5;28;01mreturn\u001b[39;00m\n\u001b[32m---> \u001b[39m\u001b[32m80\u001b[39m fp = \u001b[43msubConverter\u001b[49m\u001b[43m.\u001b[49m\u001b[43mwrite\u001b[49m\u001b[43m(\u001b[49m\n\u001b[32m     81\u001b[39m \u001b[43m    \u001b[49m\u001b[43mobj\u001b[49m\u001b[43m,\u001b[49m\n\u001b[32m     82\u001b[39m \u001b[43m    \u001b[49m\u001b[43mfmt\u001b[49m\u001b[43m,\u001b[49m\n\u001b[32m     83\u001b[39m \u001b[43m    \u001b[49m\u001b[43msubformats\u001b[49m\u001b[43m=\u001b[49m\u001b[43msubformats\u001b[49m\u001b[43m,\u001b[49m\n\u001b[32m     84\u001b[39m \u001b[43m    \u001b[49m\u001b[43mtrimEdges\u001b[49m\u001b[43m=\u001b[49m\u001b[38;5;129;43;01mnot\u001b[39;49;00m\u001b[43m \u001b[49m\u001b[43mmultipageWidget\u001b[49m\u001b[43m,\u001b[49m\n\u001b[32m     85\u001b[39m \u001b[43m    \u001b[49m\u001b[43m*\u001b[49m\u001b[43m*\u001b[49m\u001b[43mkeywords\u001b[49m\u001b[43m,\u001b[49m\n\u001b[32m     86\u001b[39m \u001b[43m\u001b[49m\u001b[43m)\u001b[49m\n\u001b[32m     88\u001b[39m \u001b[38;5;28;01mif\u001b[39;00m subformats[\u001b[32m0\u001b[39m] != \u001b[33m'\u001b[39m\u001b[33mpng\u001b[39m\u001b[33m'\u001b[39m:\n\u001b[32m     89\u001b[39m     \u001b[38;5;28;01mreturn\u001b[39;00m\n",
      "\u001b[36mFile \u001b[39m\u001b[32m~/Library/Caches/pypoetry/virtualenvs/bachgen-UH23d-R1-py3.13/lib/python3.13/site-packages/music21/converter/subConverters.py:992\u001b[39m, in \u001b[36mConverterMusicXML.write\u001b[39m\u001b[34m(self, obj, fmt, fp, subformats, makeNotation, compress, **keywords)\u001b[39m\n\u001b[32m    989\u001b[39m \u001b[38;5;28;01mif\u001b[39;00m ((\u001b[33m'\u001b[39m\u001b[33mpng\u001b[39m\u001b[33m'\u001b[39m \u001b[38;5;129;01min\u001b[39;00m subformats \u001b[38;5;129;01mor\u001b[39;00m \u001b[33m'\u001b[39m\u001b[33mpdf\u001b[39m\u001b[33m'\u001b[39m \u001b[38;5;129;01min\u001b[39;00m subformats)\n\u001b[32m    990\u001b[39m         \u001b[38;5;129;01mand\u001b[39;00m \u001b[38;5;129;01mnot\u001b[39;00m \u001b[38;5;28mstr\u001b[39m(environLocal[\u001b[33m'\u001b[39m\u001b[33mmusescoreDirectPNGPath\u001b[39m\u001b[33m'\u001b[39m]).startswith(\u001b[33m'\u001b[39m\u001b[33m/skip\u001b[39m\u001b[33m'\u001b[39m)):\n\u001b[32m    991\u001b[39m     \u001b[38;5;28;01mfrom\u001b[39;00m\u001b[38;5;250m \u001b[39m\u001b[34;01mmusic21\u001b[39;00m\u001b[34;01m.\u001b[39;00m\u001b[34;01mconverter\u001b[39;00m\u001b[34;01m.\u001b[39;00m\u001b[34;01mmuseScore\u001b[39;00m\u001b[38;5;250m \u001b[39m\u001b[38;5;28;01mimport\u001b[39;00m runThroughMuseScore\n\u001b[32m--> \u001b[39m\u001b[32m992\u001b[39m     outFp = \u001b[43mrunThroughMuseScore\u001b[49m\u001b[43m(\u001b[49m\u001b[43mxmlFp\u001b[49m\u001b[43m,\u001b[49m\u001b[43m \u001b[49m\u001b[43msubformats\u001b[49m\u001b[43m,\u001b[49m\u001b[43m \u001b[49m\u001b[43m*\u001b[49m\u001b[43m*\u001b[49m\u001b[43mkeywords\u001b[49m\u001b[43m)\u001b[49m\n\u001b[32m    993\u001b[39m \u001b[38;5;28;01melif\u001b[39;00m compress:\n\u001b[32m    994\u001b[39m     archiveTools.compressXML(xmlFp,\n\u001b[32m    995\u001b[39m                              deleteOriginal=\u001b[38;5;28;01mTrue\u001b[39;00m,\n\u001b[32m    996\u001b[39m                              silent=\u001b[38;5;28;01mTrue\u001b[39;00m,\n\u001b[32m    997\u001b[39m                              strictMxlCheck=\u001b[38;5;28;01mFalse\u001b[39;00m)\n",
      "\u001b[36mFile \u001b[39m\u001b[32m~/Library/Caches/pypoetry/virtualenvs/bachgen-UH23d-R1-py3.13/lib/python3.13/site-packages/music21/converter/museScore.py:55\u001b[39m, in \u001b[36mrunThroughMuseScore\u001b[39m\u001b[34m(fp, subformats, dpi, trimEdges, leaveMargin, **keywords)\u001b[39m\n\u001b[32m     51\u001b[39m     \u001b[38;5;28;01mraise\u001b[39;00m SubConverterException(\n\u001b[32m     52\u001b[39m         \u001b[33m'\u001b[39m\u001b[33mTo create PNG files directly from MusicXML you need to download MuseScore and \u001b[39m\u001b[33m'\u001b[39m\n\u001b[32m     53\u001b[39m         + \u001b[33m'\u001b[39m\u001b[33mput a link to it in your .music21rc via Environment.\u001b[39m\u001b[33m'\u001b[39m)\n\u001b[32m     54\u001b[39m \u001b[38;5;28;01mif\u001b[39;00m \u001b[38;5;129;01mnot\u001b[39;00m museScorePath.exists():\n\u001b[32m---> \u001b[39m\u001b[32m55\u001b[39m     \u001b[38;5;28;01mraise\u001b[39;00m SubConverterException(\n\u001b[32m     56\u001b[39m         \u001b[33m\"\u001b[39m\u001b[33mCannot find a path to the \u001b[39m\u001b[33m'\u001b[39m\u001b[33mmscore\u001b[39m\u001b[33m'\u001b[39m\u001b[33m file at \u001b[39m\u001b[33m\"\u001b[39m\n\u001b[32m     57\u001b[39m         + \u001b[33mf\u001b[39m\u001b[33m'\u001b[39m\u001b[38;5;132;01m{\u001b[39;00mmuseScorePath\u001b[38;5;132;01m}\u001b[39;00m\u001b[33m -- download MuseScore\u001b[39m\u001b[33m'\u001b[39m)\n\u001b[32m     59\u001b[39m \u001b[38;5;28;01mif\u001b[39;00m \u001b[38;5;129;01mnot\u001b[39;00m subformats:\n\u001b[32m     60\u001b[39m     subformatExtension = \u001b[33m'\u001b[39m\u001b[33mpng\u001b[39m\u001b[33m'\u001b[39m\n",
      "\u001b[31mSubConverterException\u001b[39m: Cannot find a path to the 'mscore' file at /Applications/MuseScore 3.app/Contents/MacOS/mscore -- download MuseScore"
     ]
    }
   ],
   "source": [
    "display_and_play('../musicxml_sample/minimal.musicxml')"
   ]
  },
  {
   "cell_type": "code",
   "execution_count": null,
   "id": "2dd72405-d09c-48be-9f32-aadb029c37d0",
   "metadata": {},
   "outputs": [],
   "source": []
  }
 ],
 "metadata": {
  "kernelspec": {
   "display_name": "Python 3 (ipykernel)",
   "language": "python",
   "name": "python3"
  },
  "language_info": {
   "codemirror_mode": {
    "name": "ipython",
    "version": 3
   },
   "file_extension": ".py",
   "mimetype": "text/x-python",
   "name": "python",
   "nbconvert_exporter": "python",
   "pygments_lexer": "ipython3",
   "version": "3.13.3"
  }
 },
 "nbformat": 4,
 "nbformat_minor": 5
}
