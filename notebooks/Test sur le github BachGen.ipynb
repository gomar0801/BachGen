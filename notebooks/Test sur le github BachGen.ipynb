{
 "cells": [
  {
   "cell_type": "markdown",
   "id": "0d34bf0e-2afa-4311-8a0d-20778515a64b",
   "metadata": {},
   "source": [
    "[![Open In Colab](https://colab.research.google.com/assets/colab-badge.svg)](https://colab.research.google.com/github/gomar0801/BachGen/blob/main/notebooks/Test%20sur%20le%20github%20BachGen.ipynb)"
   ]
  },
  {
   "cell_type": "code",
   "execution_count": 10,
   "id": "7dffe1df-99d5-4887-80ee-3ba7f9f16c45",
   "metadata": {},
   "outputs": [
    {
     "name": "stdout",
     "output_type": "stream",
     "text": [
      "Cloning into 'BachGen'...\n",
      "remote: Enumerating objects: 131, done.\u001b[K\n",
      "remote: Counting objects: 100% (131/131), done.\u001b[K\n",
      "remote: Compressing objects: 100% (119/119), done.\u001b[K\n",
      "remote: Total 131 (delta 57), reused 25 (delta 4), pack-reused 0 (from 0)\u001b[K\n",
      "Receiving objects: 100% (131/131), 89.40 KiB | 1.00 MiB/s, done.\n",
      "Resolving deltas: 100% (57/57), done.\n",
      "chmod: ./BachGen/scripts/setup.sh: No such file or directory\n",
      "zsh:1: no such file or directory: ./BachGen/scripts/setup.sh\n"
     ]
    }
   ],
   "source": [
    "%%capture\n",
    "# Clone the BachGen repository\n",
    "!rm -rf BachGen && git clone https://github.com/gomar0801/BachGen.git\n",
    "!chmod +x ./BachGen/scripts/setup.sh\n",
    "!./BachGen/scripts/setup.sh"
   ]
  },
  {
   "cell_type": "code",
   "execution_count": 4,
   "id": "dc675833-86ad-4379-ba27-1f0fa9e6e451",
   "metadata": {},
   "outputs": [],
   "source": [
    "from bachgen.display_and_play_partition import display_and_play "
   ]
  },
  {
   "cell_type": "code",
   "execution_count": 5,
   "id": "0f9a0ddd-f689-4cc6-be7f-ab2f3374bf13",
   "metadata": {},
   "outputs": [
    {
     "data": {
      "image/png": "[encoded data removed]",
      "text/plain": [
       "<IPython.core.display.Image object>"
      ]
     },
     "metadata": {
      "image/png": {
       "height": 156,
       "width": 451
      }
     },
     "output_type": "display_data"
    },
    {
     "data": {
      "text/html": [
       "\n",
       "        <div id=\"midiPlayerDiv82\"></div>\n",
       "        <link rel=\"stylesheet\" href=\"https://cuthbertLab.github.io/music21j/css/m21.css\">\n",
       "        \n",
       "        <script\n",
       "        src=\"https://cdnjs.cloudflare.com/ajax/libs/require.js/2.3.6/require.min.js\"\n",
       "        ></script>\n",
       "    \n",
       "        <script>\n",
       "        function midiPlayerDiv82_play() {\n",
       "            const rq = require.config({\n",
       "                paths: {\n",
       "                    'music21': 'https://cuthbertLab.github.io/music21j/releases/music21.debug',\n",
       "                }\n",
       "            });\n",
       "            rq(['music21'], function(music21) {\n",
       "                mp = new music21.miditools.MidiPlayer();\n",
       "                mp.addPlayer(\"#midiPlayerDiv82\");\n",
       "                mp.base64Load(\"data:audio/midi;base64,TVRoZAAAAAYAAQACJ2BNVHJrAAAAGgD/UQMHoSAA/1kCAAAA/1gEBAIYCM5g/y8ATVRyawAAACAA/wMFTXVzaWMA4ABAAMAAzmCQPFqCuwCAPADOYP8vAA==\");\n",
       "            });\n",
       "        }\n",
       "        if (typeof require === 'undefined') {\n",
       "            setTimeout(midiPlayerDiv82_play, 2000);\n",
       "        } else {\n",
       "            midiPlayerDiv82_play();\n",
       "        }\n",
       "        </script>"
      ],
      "text/plain": [
       "<IPython.core.display.HTML object>"
      ]
     },
     "metadata": {},
     "output_type": "display_data"
    }
   ],
   "source": [
    "display_and_play('./BachGen/musicxml_sample/minimal.musicxml')"
   ]
  },
  {
   "cell_type": "code",
   "execution_count": null,
   "id": "2dd72405-d09c-48be-9f32-aadb029c37d0",
   "metadata": {},
   "outputs": [],
   "source": []
  }
 ],
 "metadata": {
  "kernelspec": {
   "display_name": "Python 3 (ipykernel)",
   "language": "python",
   "name": "python3"
  },
  "language_info": {
   "codemirror_mode": {
    "name": "ipython",
    "version": 3
   },
   "file_extension": ".py",
   "mimetype": "text/x-python",
   "name": "python",
   "nbconvert_exporter": "python",
   "pygments_lexer": "ipython3",
   "version": "3.13.3"
  }
 },
 "nbformat": 4,
 "nbformat_minor": 5
}
